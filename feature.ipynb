{
 "cells": [
  {
   "cell_type": "code",
   "execution_count": 1,
   "metadata": {
    "collapsed": true
   },
   "outputs": [
    {
     "name": "stderr",
     "output_type": "stream",
     "text": [
      "UsageError: Line magic function `%` not found.\n"
     ]
    }
   ],
   "source": [
    "import math\n",
    "import torch\n",
    "import gpytorch\n",
    "from matplotlib import pyplot as plt\n",
    "\n",
    "% matplotlib inline\n",
    "% load_ext autoreload\n",
    "% autoreload 2"
   ]
  },
  {
   "cell_type": "code",
   "execution_count": 2,
   "metadata": {
    "collapsed": false,
    "pycharm": {
     "name": "#%%\n"
    }
   },
   "outputs": [],
   "source": [
    "train_x1 = torch.linspace(0, 1, 50)\n",
    "train_x2 = train_x1\n",
    "\n",
    "train_y1 = torch.ones_like(train_x1)+math.sqrt(0.1)*torch.rand_like(train_x1)\n",
    "train_y2 = 0.8*train_y1-2\n",
    "train_y1[-1] = 2\n"
   ]
  },
  {
   "cell_type": "code",
   "execution_count": 3,
   "metadata": {
    "collapsed": false,
    "pycharm": {
     "name": "#%%\n"
    }
   },
   "outputs": [],
   "source": [
    "class MultitaskGPModel(gpytorch.models.ExactGP):\n",
    "  def __init__(self, train_x, train_y, likelihood):\n",
    "    super(MultitaskGPModel, self).__init__(train_x, train_y, likelihood)\n",
    "    self.mean_module = gpytorch.means.ConstantMean()\n",
    "    self.covar_module = gpytorch.kernels.RBFKernel()\n",
    "\n",
    "    # We learn an IndexKernel for 2 tasks\n",
    "    # (so we'll actually learn 2x2=4 tasks with correlations)\n",
    "    self.task_covar_module = gpytorch.kernels.IndexKernel(num_tasks=2, rank=1)\n",
    "\n",
    "  def forward(self, x, i):\n",
    "    mean_x = self.mean_module(x)\n",
    "\n",
    "    # Get input-input covariance\n",
    "    covar_x = self.covar_module(x)\n",
    "    # Get task-task covariance\n",
    "    covar_i = self.task_covar_module(i)\n",
    "    # Multiply the two together to get the covariance we want\n",
    "    covar = covar_x.mul(covar_i)\n",
    "\n",
    "    return gpytorch.distributions.MultivariateNormal(mean_x, covar)\n",
    "\n",
    "\n",
    "likelihood = gpytorch.likelihoods.GaussianLikelihood()\n",
    "\n",
    "train_i_task1 = torch.full_like(train_x1, dtype=torch.long, fill_value=0)\n",
    "train_i_task2 = torch.full_like(train_x2, dtype=torch.long, fill_value=1)\n",
    "\n",
    "full_train_x = torch.cat([train_x1, train_x2])\n",
    "full_train_i = torch.cat([train_i_task1, train_i_task2])\n",
    "full_train_y = torch.cat([train_y1, train_y2])\n",
    "\n",
    "# Here we have two iterms that we're passing in as train_inputs\n",
    "model = MultitaskGPModel((full_train_x, full_train_i), full_train_y, likelihood)"
   ]
  },
  {
   "cell_type": "code",
   "execution_count": 6,
   "metadata": {
    "collapsed": false,
    "pycharm": {
     "name": "#%%\n"
    }
   },
   "outputs": [
    {
     "name": "stdout",
     "output_type": "stream",
     "text": [
      "Iter 1/50 - Loss: -0.629\n",
      "Iter 2/50 - Loss: 0.470\n",
      "Iter 3/50 - Loss: -0.561\n",
      "Iter 4/50 - Loss: -0.419\n",
      "Iter 5/50 - Loss: -0.068\n",
      "Iter 6/50 - Loss: -0.182\n",
      "Iter 7/50 - Loss: -0.453\n",
      "Iter 8/50 - Loss: -0.602\n",
      "Iter 9/50 - Loss: -0.576\n",
      "Iter 10/50 - Loss: -0.468\n",
      "Iter 11/50 - Loss: -0.390\n",
      "Iter 12/50 - Loss: -0.392\n",
      "Iter 13/50 - Loss: -0.455\n",
      "Iter 14/50 - Loss: -0.530\n",
      "Iter 15/50 - Loss: -0.578\n",
      "Iter 16/50 - Loss: -0.583\n",
      "Iter 17/50 - Loss: -0.556\n",
      "Iter 18/50 - Loss: -0.523\n",
      "Iter 19/50 - Loss: -0.508\n",
      "Iter 20/50 - Loss: -0.521\n",
      "Iter 21/50 - Loss: -0.553\n",
      "Iter 22/50 - Loss: -0.588\n",
      "Iter 23/50 - Loss: -0.610\n",
      "Iter 24/50 - Loss: -0.613\n",
      "Iter 25/50 - Loss: -0.603\n",
      "Iter 26/50 - Loss: -0.590\n",
      "Iter 27/50 - Loss: -0.586\n",
      "Iter 28/50 - Loss: -0.594\n",
      "Iter 29/50 - Loss: -0.610\n",
      "Iter 30/50 - Loss: -0.624\n",
      "Iter 31/50 - Loss: -0.629\n",
      "Iter 32/50 - Loss: -0.625\n",
      "Iter 33/50 - Loss: -0.617\n",
      "Iter 34/50 - Loss: -0.610\n",
      "Iter 35/50 - Loss: -0.609\n",
      "Iter 36/50 - Loss: -0.614\n",
      "Iter 37/50 - Loss: -0.621\n",
      "Iter 38/50 - Loss: -0.625\n",
      "Iter 39/50 - Loss: -0.626\n",
      "Iter 40/50 - Loss: -0.623\n",
      "Iter 41/50 - Loss: -0.620\n",
      "Iter 42/50 - Loss: -0.619\n",
      "Iter 43/50 - Loss: -0.621\n",
      "Iter 44/50 - Loss: -0.625\n",
      "Iter 45/50 - Loss: -0.628\n",
      "Iter 46/50 - Loss: -0.629\n",
      "Iter 47/50 - Loss: -0.629\n",
      "Iter 48/50 - Loss: -0.627\n",
      "Iter 49/50 - Loss: -0.626\n",
      "Iter 50/50 - Loss: -0.626\n",
      "Iter 51/50 - Loss: -0.627\n",
      "Iter 52/50 - Loss: -0.629\n",
      "Iter 53/50 - Loss: -0.629\n",
      "Iter 54/50 - Loss: -0.629\n",
      "Iter 55/50 - Loss: -0.628\n",
      "Iter 56/50 - Loss: -0.628\n",
      "Iter 57/50 - Loss: -0.628\n",
      "Iter 58/50 - Loss: -0.628\n",
      "Iter 59/50 - Loss: -0.629\n",
      "Iter 60/50 - Loss: -0.630\n",
      "Iter 61/50 - Loss: -0.630\n",
      "Iter 62/50 - Loss: -0.630\n",
      "Iter 63/50 - Loss: -0.629\n",
      "Iter 64/50 - Loss: -0.629\n",
      "Iter 65/50 - Loss: -0.630\n",
      "Iter 66/50 - Loss: -0.630\n",
      "Iter 67/50 - Loss: -0.630\n",
      "Iter 68/50 - Loss: -0.630\n",
      "Iter 69/50 - Loss: -0.630\n",
      "Iter 70/50 - Loss: -0.630\n",
      "Iter 71/50 - Loss: -0.630\n",
      "Iter 72/50 - Loss: -0.630\n",
      "Iter 73/50 - Loss: -0.631\n",
      "Iter 74/50 - Loss: -0.631\n",
      "Iter 75/50 - Loss: -0.631\n",
      "Iter 76/50 - Loss: -0.631\n",
      "Iter 77/50 - Loss: -0.631\n",
      "Iter 78/50 - Loss: -0.631\n",
      "Iter 79/50 - Loss: -0.631\n",
      "Iter 80/50 - Loss: -0.631\n",
      "Iter 81/50 - Loss: -0.631\n",
      "Iter 82/50 - Loss: -0.631\n",
      "Iter 83/50 - Loss: -0.631\n",
      "Iter 84/50 - Loss: -0.631\n",
      "Iter 85/50 - Loss: -0.631\n",
      "Iter 86/50 - Loss: -0.631\n",
      "Iter 87/50 - Loss: -0.631\n",
      "Iter 88/50 - Loss: -0.631\n",
      "Iter 89/50 - Loss: -0.631\n",
      "Iter 90/50 - Loss: -0.631\n",
      "Iter 91/50 - Loss: -0.632\n",
      "Iter 92/50 - Loss: -0.632\n",
      "Iter 93/50 - Loss: -0.632\n",
      "Iter 94/50 - Loss: -0.632\n",
      "Iter 95/50 - Loss: -0.632\n",
      "Iter 96/50 - Loss: -0.632\n",
      "Iter 97/50 - Loss: -0.632\n",
      "Iter 98/50 - Loss: -0.632\n",
      "Iter 99/50 - Loss: -0.632\n",
      "Iter 100/50 - Loss: -0.632\n",
      "Iter 101/50 - Loss: -0.632\n",
      "Iter 102/50 - Loss: -0.632\n",
      "Iter 103/50 - Loss: -0.632\n",
      "Iter 104/50 - Loss: -0.632\n",
      "Iter 105/50 - Loss: -0.632\n",
      "Iter 106/50 - Loss: -0.632\n",
      "Iter 107/50 - Loss: -0.632\n",
      "Iter 108/50 - Loss: -0.632\n",
      "Iter 109/50 - Loss: -0.632\n",
      "Iter 110/50 - Loss: -0.632\n",
      "Iter 111/50 - Loss: -0.632\n",
      "Iter 112/50 - Loss: -0.632\n",
      "Iter 113/50 - Loss: -0.632\n",
      "Iter 114/50 - Loss: -0.633\n",
      "Iter 115/50 - Loss: -0.633\n",
      "Iter 116/50 - Loss: -0.633\n",
      "Iter 117/50 - Loss: -0.633\n",
      "Iter 118/50 - Loss: -0.633\n",
      "Iter 119/50 - Loss: -0.633\n",
      "Iter 120/50 - Loss: -0.633\n",
      "Iter 121/50 - Loss: -0.633\n",
      "Iter 122/50 - Loss: -0.633\n",
      "Iter 123/50 - Loss: -0.633\n",
      "Iter 124/50 - Loss: -0.633\n",
      "Iter 125/50 - Loss: -0.633\n",
      "Iter 126/50 - Loss: -0.633\n",
      "Iter 127/50 - Loss: -0.633\n",
      "Iter 128/50 - Loss: -0.633\n",
      "Iter 129/50 - Loss: -0.633\n",
      "Iter 130/50 - Loss: -0.633\n",
      "Iter 131/50 - Loss: -0.633\n",
      "Iter 132/50 - Loss: -0.633\n",
      "Iter 133/50 - Loss: -0.633\n",
      "Iter 134/50 - Loss: -0.633\n",
      "Iter 135/50 - Loss: -0.633\n",
      "Iter 136/50 - Loss: -0.633\n",
      "Iter 137/50 - Loss: -0.633\n",
      "Iter 138/50 - Loss: -0.633\n",
      "Iter 139/50 - Loss: -0.633\n",
      "Iter 140/50 - Loss: -0.633\n",
      "Iter 141/50 - Loss: -0.633\n",
      "Iter 142/50 - Loss: -0.633\n",
      "Iter 143/50 - Loss: -0.634\n",
      "Iter 144/50 - Loss: -0.634\n",
      "Iter 145/50 - Loss: -0.634\n",
      "Iter 146/50 - Loss: -0.634\n",
      "Iter 147/50 - Loss: -0.634\n",
      "Iter 148/50 - Loss: -0.634\n",
      "Iter 149/50 - Loss: -0.634\n",
      "Iter 150/50 - Loss: -0.634\n"
     ]
    }
   ],
   "source": [
    "# this is for running the notebook in our testing framework\n",
    "import os\n",
    "\n",
    "smoke_test = ('CI' in os.environ)\n",
    "training_iterations = 2 if smoke_test else 150\n",
    "\n",
    "# Find optimal model hyperparameters\n",
    "model.train()\n",
    "likelihood.train()\n",
    "\n",
    "# Use the adam optimizer\n",
    "optimizer = torch.optim.Adam([\n",
    "  {'params': model.parameters()},  # Includes GaussianLikelihood parameters\n",
    "], lr=0.1)\n",
    "\n",
    "# \"Loss\" for GPs - the marginal log likelihood\n",
    "mll = gpytorch.mlls.ExactMarginalLogLikelihood(likelihood, model)\n",
    "\n",
    "for i in range(training_iterations):\n",
    "  optimizer.zero_grad()\n",
    "  output = model(full_train_x, full_train_i)\n",
    "  loss = -mll(output, full_train_y)\n",
    "  loss.backward()\n",
    "  print('Iter %d/50 - Loss: %.3f' % (i + 1, loss.item()))\n",
    "  optimizer.step()"
   ]
  },
  {
   "cell_type": "code",
   "execution_count": 7,
   "metadata": {
    "collapsed": false,
    "pycharm": {
     "name": "#%%\n"
    }
   },
   "outputs": [
    {
     "data": {
      "image/png": "[encoded data removed]",
      "text/plain": [
       "<Figure size 576x216 with 2 Axes>"
      ]
     },
     "metadata": {
      "needs_background": "light"
     },
     "output_type": "display_data"
    }
   ],
   "source": [
    "# Set into eval mode\n",
    "model.eval()\n",
    "likelihood.eval()\n",
    "\n",
    "# Initialize plots\n",
    "f, (y1_ax, y2_ax) = plt.subplots(1, 2, figsize=(8, 3))\n",
    "\n",
    "# Test points every 0.02 in [0,1]\n",
    "test_x = torch.linspace(0, 1.5, 71)\n",
    "tast_i_task1 = torch.full_like(test_x, dtype=torch.long, fill_value=0)\n",
    "test_i_task2 = torch.full_like(test_x, dtype=torch.long, fill_value=1)\n",
    "\n",
    "# Make predictions - one task at a time\n",
    "# We control the task we cae about using the indices\n",
    "\n",
    "# The gpytorch.settings.fast_pred_var flag activates LOVE (for fast variances)\n",
    "# See https://arxiv.org/abs/1803.06058\n",
    "with torch.no_grad(), gpytorch.settings.fast_pred_var():\n",
    "  observed_pred_y1 = likelihood(model(test_x, tast_i_task1))\n",
    "  observed_pred_y2 = likelihood(model(test_x, test_i_task2))\n",
    "\n",
    "\n",
    "# Define plotting function\n",
    "def ax_plot(ax, train_y, train_x, rand_var, title):\n",
    "  # Get lower and upper confidence bounds\n",
    "  lower, upper = rand_var.confidence_region()\n",
    "  # Plot training data as black stars\n",
    "  ax.plot(train_x.detach().numpy(), train_y.detach().numpy(), 'k*')\n",
    "  # Predictive mean as blue line\n",
    "  ax.plot(test_x.detach().numpy(), rand_var.mean.detach().numpy(), 'b')\n",
    "  # Shade in confidence\n",
    "  ax.fill_between(test_x.detach().numpy(), lower.detach().numpy(), upper.detach().numpy(), alpha=0.5)\n",
    "  ax.set_ylim([-3, 3])\n",
    "  ax.legend(['Observed Data', 'Mean', 'Confidence'])\n",
    "  ax.set_title(title)\n",
    "\n",
    "\n",
    "# Plot both tasks\n",
    "ax_plot(y1_ax, train_y1, train_x1, observed_pred_y1, 'Observed Values (Likelihood)')\n",
    "ax_plot(y2_ax, train_y2, train_x2, observed_pred_y2, 'Observed Values (Likelihood)')"
   ]
  },
  {
   "cell_type": "code",
   "execution_count": 8,
   "metadata": {
    "collapsed": false,
    "pycharm": {
     "name": "#%%\n"
    }
   },
   "outputs": [],
   "source": [
    "inter=torch.linspace(1,2,20)\n",
    "train_y1[-20:]=inter\n",
    "n_full_train_y = torch.cat([train_y1, train_y2])\n",
    "model.set_train_data((full_train_x, full_train_i), n_full_train_y)"
   ]
  },
  {
   "cell_type": "code",
   "execution_count": 31,
   "metadata": {
    "collapsed": false,
    "pycharm": {
     "name": "#%%\n"
    }
   },
   "outputs": [
    {
     "name": "stdout",
     "output_type": "stream",
     "text": [
      "Iter 1/50 - Loss: -0.889\n",
      "Iter 2/50 - Loss: -0.857\n",
      "Iter 3/50 - Loss: -0.887\n",
      "Iter 4/50 - Loss: -0.884\n",
      "Iter 5/50 - Loss: -0.874\n",
      "Iter 6/50 - Loss: -0.882\n",
      "Iter 7/50 - Loss: -0.890\n",
      "Iter 8/50 - Loss: -0.888\n",
      "Iter 9/50 - Loss: -0.883\n",
      "Iter 10/50 - Loss: -0.882\n"
     ]
    }
   ],
   "source": [
    "# Find optimal model hyperparameters\n",
    "model.train()\n",
    "likelihood.train()\n",
    "\n",
    "# Use the adam optimizer\n",
    "optimizer = torch.optim.Adam([\n",
    "  {'params': model.parameters()},  # Includes GaussianLikelihood parameters\n",
    "], lr=0.1)\n",
    "\n",
    "# \"Loss\" for GPs - the marginal log likelihood\n",
    "mll = gpytorch.mlls.ExactMarginalLogLikelihood(likelihood, model)\n",
    "\n",
    "for i in range(10):\n",
    "  optimizer.zero_grad()\n",
    "  output = model(full_train_x, full_train_i)\n",
    "  loss = -mll(output, n_full_train_y)\n",
    "  loss.backward()\n",
    "  print('Iter %d/50 - Loss: %.3f' % (i + 1, loss.item()))\n",
    "  optimizer.step()"
   ]
  },
  {
   "cell_type": "code",
   "execution_count": 32,
   "metadata": {
    "collapsed": false,
    "pycharm": {
     "name": "#%%\n"
    }
   },
   "outputs": [
    {
     "data": {
      "image/png": "[encoded data removed]",
      "text/plain": [
       "<Figure size 576x216 with 2 Axes>"
      ]
     },
     "metadata": {
      "needs_background": "light"
     },
     "output_type": "display_data"
    }
   ],
   "source": [
    "# Set into eval mode\n",
    "model.eval()\n",
    "likelihood.eval()\n",
    "\n",
    "# Initialize plots\n",
    "f, (y1_ax, y2_ax) = plt.subplots(1, 2, figsize=(8, 3))\n",
    "\n",
    "# Test points every 0.02 in [0,1]\n",
    "test_x = torch.linspace(0, 1.5, 51)\n",
    "tast_i_task1 = torch.full_like(test_x, dtype=torch.long, fill_value=0)\n",
    "test_i_task2 = torch.full_like(test_x, dtype=torch.long, fill_value=1)\n",
    "\n",
    "# Make predictions - one task at a time\n",
    "# We control the task we cae about using the indices\n",
    "\n",
    "# The gpytorch.settings.fast_pred_var flag activates LOVE (for fast variances)\n",
    "# See https://arxiv.org/abs/1803.06058\n",
    "with torch.no_grad(), gpytorch.settings.fast_pred_var():\n",
    "  observed_pred_y1 = likelihood(model(test_x, tast_i_task1))\n",
    "  observed_pred_y2 = likelihood(model(test_x, test_i_task2))\n",
    "\n",
    "\n",
    "# Define plotting function\n",
    "def ax_plot(ax, train_y, train_x, rand_var, title):\n",
    "  # Get lower and upper confidence bounds\n",
    "  lower, upper = rand_var.confidence_region()\n",
    "  # Plot training data as black stars\n",
    "  ax.plot(train_x.detach().numpy(), train_y.detach().numpy(), 'k*')\n",
    "  # Predictive mean as blue line\n",
    "  ax.plot(test_x.detach().numpy(), rand_var.mean.detach().numpy(), 'b')\n",
    "  # Shade in confidence\n",
    "  ax.fill_between(test_x.detach().numpy(), lower.detach().numpy(), upper.detach().numpy(), alpha=0.5)\n",
    "  ax.set_ylim([-3, 3])\n",
    "  ax.legend(['Observed Data', 'Mean', 'Confidence'])\n",
    "  ax.set_title(title)\n",
    "\n",
    "\n",
    "# Plot both tasks\n",
    "ax_plot(y1_ax, train_y1, train_x1, observed_pred_y1, 'Observed Values (Likelihood)')\n",
    "ax_plot(y2_ax, train_y2, train_x2, observed_pred_y2, 'Observed Values (Likelihood)')"
   ]
  },
  {
   "cell_type": "code",
   "execution_count": null,
   "metadata": {
    "collapsed": false,
    "pycharm": {
     "name": "#%%\n"
    }
   },
   "outputs": [],
   "source": [
    "import timeit\n",
    "import time\n",
    "\n",
    "start = timeit.default_timer()\n",
    "time.sleep(3)\n",
    "stop = timeit.default_timer()\n",
    "print('Time: ', stop - start)"
   ]
  },
  {
   "cell_type": "markdown",
   "metadata": {
    "collapsed": false
   },
   "source": [
    "## Interpolation"
   ]
  },
  {
   "cell_type": "code",
   "execution_count": null,
   "metadata": {
    "collapsed": false,
    "pycharm": {
     "name": "#%%\n"
    }
   },
   "outputs": [],
   "source": [
    "import scipy\n",
    "import numpy as np\n",
    "import torch\n",
    "import torch.nn.functional as F\n",
    "import scipy.interpolate\n",
    "import pandas as pd"
   ]
  },
  {
   "cell_type": "code",
   "execution_count": null,
   "metadata": {
    "collapsed": false,
    "pycharm": {
     "name": "#%%\n"
    }
   },
   "outputs": [],
   "source": [
    "a = torch.ones((14, 1))\n",
    "b = torch.ones((1, 1)) * 2"
   ]
  },
  {
   "cell_type": "code",
   "execution_count": null,
   "metadata": {
    "collapsed": false,
    "pycharm": {
     "name": "#%%\n"
    }
   },
   "outputs": [],
   "source": [
    "c = torch.cat((a, b))\n",
    "# c[10:14, 0] = torch.nan"
   ]
  },
  {
   "cell_type": "code",
   "execution_count": null,
   "metadata": {
    "collapsed": false,
    "pycharm": {
     "name": "#%%\n"
    }
   },
   "outputs": [],
   "source": [
    "d = F.interpolate(c, [15, 1], mode='cubic')"
   ]
  },
  {
   "cell_type": "code",
   "execution_count": null,
   "metadata": {
    "collapsed": false,
    "pycharm": {
     "name": "#%%\n"
    }
   },
   "outputs": [],
   "source": [
    "c_n = c.numpy()\n",
    "x = np.arange(0, c_n.shape[0]).reshape((15, 1))\n",
    "x[-1, 0] = 20"
   ]
  },
  {
   "cell_type": "code",
   "execution_count": null,
   "metadata": {
    "collapsed": false,
    "pycharm": {
     "name": "#%%\n"
    }
   },
   "outputs": [],
   "source": [
    "s = pd.Series(c_n)"
   ]
  },
  {
   "cell_type": "code",
   "execution_count": null,
   "metadata": {
    "collapsed": false,
    "pycharm": {
     "name": "#%%\n"
    }
   },
   "outputs": [],
   "source": [
    "s.interpolate()"
   ]
  },
  {
   "cell_type": "code",
   "execution_count": null,
   "metadata": {
    "collapsed": false,
    "pycharm": {
     "name": "#%%\n"
    }
   },
   "outputs": [],
   "source": []
  },
  {
   "cell_type": "code",
   "execution_count": null,
   "metadata": {
    "collapsed": false,
    "pycharm": {
     "name": "#%%\n"
    }
   },
   "outputs": [],
   "source": [
    "z = scipy.interpolate.interp1d(x.squeeze(), c_n, axis=0, kind='quadratic')"
   ]
  },
  {
   "cell_type": "code",
   "execution_count": null,
   "metadata": {
    "collapsed": false,
    "pycharm": {
     "name": "#%%\n"
    }
   },
   "outputs": [],
   "source": [
    "for i in range(21):\n",
    "  print(\"i:\", i, z(i))"
   ]
  },
  {
   "cell_type": "code",
   "execution_count": null,
   "metadata": {
    "collapsed": false,
    "pycharm": {
     "name": "#%%\n"
    }
   },
   "outputs": [],
   "source": [
    "import torch\n",
    "\n",
    "import RatInteractionDataLoader as ridl\n",
    "import time\n",
    "from model import Label, dynamicagent\n",
    "\n",
    "\n",
    "def main():\n",
    "  data_dir = 'dataset/'\n",
    "\n",
    "  label_prefix = 'smuro-interaction-'\n",
    "  label_data = '1028'\n",
    "  label_time = '-0834pm'\n",
    "  # label_suffix = '-short.csv'\n",
    "  label_suffix = '-restored.mat'\n",
    "  device = torch.device(\"cuda\" if torch.cuda.is_available() else \"cpu\")\n",
    "  # print('device is', device)\n",
    "\n",
    "  file_path = data_dir + label_data + '/' + label_prefix + label_data + label_time + label_suffix\n",
    "\n",
    "  # all_data = ridl.load_csv_data(file_path, mformat_header=False).to_numpy() * 60\n",
    "  all_data = ridl.load_mat_file(file_path)['imputed_data']\n",
    "  tensor_data = torch.tensor(all_data, dtype=torch.float64).to(device)\n",
    "  # print(all_data[:3, :2])\n",
    "\n",
    "  print(tensor_data.shape)\n",
    "\n",
    "  t_dura_1s = 240  # 240 frames for 1s\n",
    "  start_time = 0\n",
    "  end_time = 10\n",
    "  sample = 1\n",
    "  gaussian_window = 24 * 5\n",
    "\n",
    "  data_time_index = 0\n",
    "  points_number = 4  # load 4 points to test\n",
    "  data_time = tensor_data[:gaussian_window, 0]\n",
    "  data_pos = tensor_data[:gaussian_window, 1:3 * points_number + 1]\n",
    "  print('data device', data_time.device)\n",
    "  print('data device', data_pos.device)\n",
    "\n",
    "  labeler = Label(data_time, data_pos, device=device, max_iter=150)\n",
    "\n",
    "  labeler.optimize()\n",
    "  test_time = tensor_data[gaussian_window, 0].view(-1)  # time value should be Nx1 shape\n",
    "  test_pos = tensor_data[gaussian_window, 1:].view(1, -1)\n",
    "  aha = labeler.predict(test_time, test_pos)\n",
    "  print('predication shape:', aha.shape)\n",
    "  print('and its items:', aha)\n",
    "  print('test pos is:', test_pos[0, :12])\n",
    "  # aha shape should be [1,14*3]\n",
    "\n",
    "\n",
    "def test():\n",
    "  data_dir = 'dataset/'\n",
    "\n",
    "  label_prefix = 'smuro-interaction-'\n",
    "  label_data = '1028'\n",
    "  label_time = '-0834pm'\n",
    "  # label_suffix = '-short.csv'\n",
    "  label_suffix = '-restored.mat'\n",
    "  device = torch.device(\"cuda\" if torch.cuda.is_available() else \"cpu\")\n",
    "  # print('device is', device)\n",
    "\n",
    "  file_path = data_dir + label_data + '/' + label_prefix + label_data + label_time + label_suffix\n",
    "\n",
    "  # all_data = ridl.load_csv_data(file_path, mformat_header=False).to_numpy() * 60\n",
    "  all_data = ridl.load_mat_file(file_path)['imputed_data']\n",
    "  tensor_data = torch.tensor(all_data, dtype=torch.float64).to(device)\n",
    "  agent = dynamicagent.DynamicAgent(tensor_data, save_mat='result.mat')\n",
    "\n",
    "  # data = ridl.load_mat_file('dataset/restored_data.mat')\n",
    "  # print('data type', type(data))\n",
    "  # print('data contents', data['imputed_data'][:3, :3])\n",
    "\n",
    "\n",
    "if __name__ == '__main__':\n",
    "  # main()\n",
    "  test()\n"
   ]
  },
  {
   "cell_type": "code",
   "execution_count": null,
   "metadata": {},
   "outputs": [],
   "source": [
    "import numpy as np\n",
    "import scipy.interpolate as interpolate\n",
    "import matplotlib.pyplot as plt\n",
    "\n",
    "\n",
    "def func(x, y, z):\n",
    "    return x ** 2 + y ** 2 + z ** 2\n",
    "\n",
    "# Nx, Ny, Nz = 181, 181, 421\n",
    "Nx, Ny, Nz = 18, 18, 42\n",
    "\n",
    "subsample = 2\n",
    "Mx, My, Mz = Nx // subsample, Ny // subsample, Nz // subsample\n",
    "\n",
    "# Define irregularly spaced arrays\n",
    "x = np.random.random(Nx)\n",
    "y = np.random.random(Ny)\n",
    "z = np.random.random(Nz)\n",
    "\n",
    "# Compute the matrix D of shape (Nx, Ny, Nz).\n",
    "# D could be experimental data, but here I'll define it using func\n",
    "# D[i,j,k] is associated with location (x[i], y[j], z[k])\n",
    "X_irregular, Y_irregular, Z_irregular = (\n",
    "    x[:, None, None], y[None, :, None], z[None, None, :])\n",
    "D = func(X_irregular, Y_irregular, Z_irregular)\n",
    "\n",
    "# Create a uniformly spaced grid\n",
    "xi = np.linspace(x.min(), x.max(), Mx)\n",
    "yi = np.linspace(y.min(), y.max(), My)\n",
    "zi = np.linspace(y.min(), y.max(), Mz)\n",
    "X_uniform, Y_uniform, Z_uniform = (\n",
    "    xi[:, None, None], yi[None, :, None], zi[None, None, :])\n",
    "\n",
    "# To use griddata, I need 1D-arrays for x, y, z of length \n",
    "# len(D.ravel()) = Nx*Ny*Nz.\n",
    "# To do this, I broadcast up my *_irregular arrays to each be \n",
    "# of shape (Nx, Ny, Nz)\n",
    "# and then use ravel() to make them 1D-arrays\n",
    "X_irregular, Y_irregular, Z_irregular = np.broadcast_arrays(\n",
    "    X_irregular, Y_irregular, Z_irregular)\n",
    "D_interpolated = interpolate.griddata(\n",
    "    (X_irregular.ravel(), Y_irregular.ravel(), Z_irregular.ravel()),\n",
    "    D.ravel(),\n",
    "    (X_uniform, Y_uniform, Z_uniform),\n",
    "    method='linear')\n",
    "\n",
    "print(D_interpolated.shape)\n",
    "# (90, 90, 210)\n",
    "\n",
    "# Make plots\n",
    "fig, ax = plt.subplots(2)\n",
    "\n",
    "# Choose a z value in the uniform z-grid\n",
    "# Let's take the middle value\n",
    "zindex = Mz // 2\n",
    "z_crosssection = zi[zindex]\n",
    "\n",
    "# Plot a cross-section of the raw irregularly spaced data\n",
    "X_irr, Y_irr = np.meshgrid(sorted(x), sorted(y))\n",
    "# find the value in the irregular z-grid closest to z_crosssection\n",
    "z_near_cross = z[(np.abs(z - z_crosssection)).argmin()]\n",
    "ax[0].contourf(X_irr, Y_irr, func(X_irr, Y_irr, z_near_cross))\n",
    "ax[0].scatter(X_irr, Y_irr, c='white', s=20)   \n",
    "ax[0].set_title('Cross-section of irregular data')\n",
    "ax[0].set_xlim(x.min(), x.max())\n",
    "ax[0].set_ylim(y.min(), y.max())\n",
    "\n",
    "# Plot a cross-section of the Interpolated uniformly spaced data\n",
    "X_unif, Y_unif = np.meshgrid(xi, yi)\n",
    "ax[1].contourf(X_unif, Y_unif, D_interpolated[:, :, zindex])\n",
    "ax[1].scatter(X_unif, Y_unif, c='white', s=20)\n",
    "ax[1].set_title('Cross-section of downsampled and interpolated data')\n",
    "ax[1].set_xlim(x.min(), x.max())\n",
    "ax[1].set_ylim(y.min(), y.max())\n",
    "\n",
    "plt.show()"
   ]
  },
  {
   "cell_type": "code",
   "execution_count": null,
   "metadata": {},
   "outputs": [],
   "source": [
    "%matplotlib inline\n",
    "import numpy as np\n",
    "import matplotlib.pyplot as plt\n",
    "import matplotlib.animation as animation\n",
    "\n",
    "fig = plt.figure()\n",
    "ax=fig.add_subplot()\n",
    "def f(x, y):\n",
    "    return np.sin(x+y)\n",
    "x = np.linspace(0, 2 * np.pi, 120)\n",
    "ims = []\n",
    "for i in np.linspace(0,2,100):\n",
    "    im,=ax.plot(x,f(x,i),'r')\n",
    "    title= ax.text(0.5,1.05,\"time = {:.2f}s\".format(i), \n",
    "                    size=plt.rcParams[\"axes.titlesize\"],\n",
    "                    ha=\"center\", transform=ax.transAxes, )\n",
    "    ims.append([im,title])\n",
    "ani = animation.ArtistAnimation(fig, ims, interval=50, blit=False)\n",
    "ani.save(\"sin.gif\",writer='pillow')\n",
    "plt.show()"
   ]
  }
 ],
 "metadata": {
  "kernelspec": {
   "display_name": "Python 3",
   "language": "python",
   "name": "python3"
  },
  "language_info": {
   "codemirror_mode": {
    "name": "ipython",
    "version": 3
   },
   "file_extension": ".py",
   "mimetype": "text/x-python",
   "name": "python",
   "nbconvert_exporter": "python",
   "pygments_lexer": "ipython3",
   "version": "3.9.7"
  }
 },
 "nbformat": 4,
 "nbformat_minor": 0
}
